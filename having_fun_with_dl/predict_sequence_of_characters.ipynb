{
 "cells": [
  {
   "cell_type": "code",
   "execution_count": 19,
   "metadata": {},
   "outputs": [],
   "source": [
    "import torch\n",
    "import torch.nn as nn\n",
    "import torch.optim as optim"
   ]
  },
  {
   "cell_type": "code",
   "execution_count": 95,
   "metadata": {},
   "outputs": [
    {
     "name": "stdout",
     "output_type": "stream",
     "text": [
      "2108\n"
     ]
    }
   ],
   "source": [
    "with open(r'C:\\Users\\310\\Desktop\\Progects_Py\\data\\studying-stuff_data\\character_sequence_2.txt', 'r') as file:\n",
    "    text = file.read()\n",
    "    print(len(text))"
   ]
  },
  {
   "cell_type": "code",
   "execution_count": 21,
   "metadata": {},
   "outputs": [
    {
     "name": "stdout",
     "output_type": "stream",
     "text": [
      "Vocabulary Size: 37\n"
     ]
    }
   ],
   "source": [
    "# Create a sorted list of unique characters in the text\n",
    "chars = sorted(list(set(text)))\n",
    "# Map each character to an index and create a reverse mapping\n",
    "char_to_idx = {char: idx for idx, char in enumerate(chars)}\n",
    "idx_to_char = {idx: char for idx, char in enumerate(chars)}\n",
    "\n",
    "# Vocabulary size\n",
    "vocab_size = len(chars)\n",
    "print(\"Vocabulary Size:\", vocab_size)\n",
    "\n",
    "# Encode the entire text as a list of integer IDs\n",
    "encoded_text = [char_to_idx[char] for char in text]"
   ]
  },
  {
   "cell_type": "code",
   "execution_count": 22,
   "metadata": {},
   "outputs": [],
   "source": [
    "train_ratio = 0.8\n",
    "split_index = int(len(encoded_text) * train_ratio)\n",
    "\n",
    "# Split the encoded text\n",
    "train_text = encoded_text[:split_index]\n",
    "test_text = encoded_text[split_index:]"
   ]
  },
  {
   "cell_type": "code",
   "execution_count": 96,
   "metadata": {},
   "outputs": [],
   "source": [
    "#Train sequences\n",
    "sequence_length = 74  # Adjust based on your model's requirements\n",
    "batch_size = 16\n",
    "\n",
    "# Training sequences and targets\n",
    "train_sequences = []\n",
    "train_targets = []\n",
    "\n",
    "for i in range(len(train_text) - sequence_length):\n",
    "    train_sequences.append(train_text[i:i + sequence_length])\n",
    "    train_targets.append(train_text[i + sequence_length])\n",
    "\n",
    "# Convert to tensors\n",
    "X_train = torch.tensor(train_sequences, dtype=torch.long)\n",
    "y_train = torch.tensor(train_targets, dtype=torch.long)"
   ]
  },
  {
   "cell_type": "code",
   "execution_count": 97,
   "metadata": {},
   "outputs": [],
   "source": [
    "# Test sequences\n",
    "test_sequences = []\n",
    "test_targets = []\n",
    "\n",
    "for i in range(len(test_text) - sequence_length):\n",
    "    test_sequences.append(test_text[i:i + sequence_length])\n",
    "    test_targets.append(test_text[i + sequence_length])\n",
    "\n",
    "# Convert to tensors\n",
    "X_test = torch.tensor(test_sequences, dtype=torch.long)\n",
    "y_test = torch.tensor(test_targets, dtype=torch.long)"
   ]
  },
  {
   "cell_type": "code",
   "execution_count": 98,
   "metadata": {},
   "outputs": [],
   "source": [
    "from torch.utils.data import DataLoader, TensorDataset\n",
    "\n",
    "# Create TensorDatasets and DataLoaders\n",
    "train_data = TensorDataset(X_train, y_train)\n",
    "test_data = TensorDataset(X_test, y_test)\n",
    "\n",
    "train_loader = DataLoader(train_data, batch_size=batch_size, shuffle=True)\n",
    "test_loader = DataLoader(test_data, batch_size=batch_size, shuffle=False)"
   ]
  },
  {
   "cell_type": "code",
   "execution_count": 99,
   "metadata": {},
   "outputs": [],
   "source": [
    "# Define the GRU-based model\n",
    "class GRUModel(nn.Module):\n",
    "    def __init__(self, input_size, hidden_size, output_size, num_layers=1, dropout_rate=0.3):\n",
    "        super(GRUModel, self).__init__()\n",
    "        self.hidden_size = hidden_size\n",
    "        self.num_layers = num_layers\n",
    "        self.dropout_rate = dropout_rate\n",
    "\n",
    "        # Embedding layer to convert character indices into dense vectors\n",
    "        self.embedding = nn.Embedding(vocab_size, embedding_dim)\n",
    "\n",
    "        # GRU layer\n",
    "        self.gru = nn.GRU(input_size, hidden_size, num_layers, batch_first=True, dropout=dropout_rate if num_layers > 1 else 0)\n",
    "\n",
    "        # Dropout layer before the fully connected layer\n",
    "        self.dropout = nn.Dropout(dropout_rate)\n",
    "        \n",
    "        # Fully connected layer for output\n",
    "        self.fc = nn.Linear(hidden_size, output_size)\n",
    "\n",
    "    def forward(self, x):\n",
    "        # Pass input through embedding layer to get (batch_size, sequence_length, embedding_dim)\n",
    "        x = self.embedding(x)\n",
    "        \n",
    "        # Initialize hidden state with zeros: (num_layers, batch_size, hidden_size)\n",
    "        h0 = torch.zeros(self.num_layers, x.size(0), self.hidden_size).to(x.device)\n",
    "        \n",
    "        # Forward propagate GRU with embedded input\n",
    "        out, _ = self.gru(x, h0)\n",
    "\n",
    "        # Apply dropout to the GRU output before passing to the fully connected layer\n",
    "        out = self.dropout(out)\n",
    "        \n",
    "        # Get the last time step's output for prediction\n",
    "        out = self.fc(out[:, -1, :])\n",
    "        \n",
    "        return out\n",
    "    \n",
    "# Parametrs\n",
    "embedding_dim = 60\n",
    "hidden_size = 128\n",
    "output_size = vocab_size  # Number of unique characters\n",
    "num_layers = 2\n",
    "dropout_rate = 0\n",
    "\n",
    "# Initialize the model, loss function, and optimizer\n",
    "model = GRUModel(input_size=embedding_dim, hidden_size=hidden_size, output_size=output_size, num_layers=num_layers, dropout_rate=dropout_rate)\n",
    "criterion = nn.CrossEntropyLoss()  # Use CrossEntropyLoss for character prediction\n",
    "optimizer = optim.Adam(model.parameters(), lr=0.0001)"
   ]
  },
  {
   "cell_type": "code",
   "execution_count": 69,
   "metadata": {},
   "outputs": [],
   "source": [
    "best_train_loss = float('inf')      # Best train loss across all epochs\n",
    "best_test_loss = float('inf')       # Best test loss across all epochs\n",
    "current_best_train_loss = float('inf')  # Best train loss for the current epoch\n",
    "current_best_test_loss = float('inf')   # Best test loss for the current epoch"
   ]
  },
  {
   "cell_type": "code",
   "execution_count": 100,
   "metadata": {},
   "outputs": [
    {
     "name": "stdout",
     "output_type": "stream",
     "text": [
      "Epoch [10/100], Train Loss: 2.7402,               Test Loss: 2.6440\n",
      "   Overall Best Train Loss: 1.5309, Overall Best Test Loss: 2.5022\n",
      "Epoch [20/100], Train Loss: 2.5493,               Test Loss: 2.5562\n",
      "   Overall Best Train Loss: 1.5309, Overall Best Test Loss: 2.5022\n",
      "Epoch [30/100], Train Loss: 2.3534,               Test Loss: 2.5172\n",
      "   Overall Best Train Loss: 1.5309, Overall Best Test Loss: 2.5022\n",
      "Epoch [40/100], Train Loss: 2.1796,               Test Loss: 2.5064\n",
      "   Overall Best Train Loss: 1.5309, Overall Best Test Loss: 2.4997\n",
      "Epoch [50/100], Train Loss: 2.0196,               Test Loss: 2.5335\n",
      "   Overall Best Train Loss: 1.5309, Overall Best Test Loss: 2.4997\n",
      "Epoch [60/100], Train Loss: 1.8512,               Test Loss: 2.5831\n",
      "   Overall Best Train Loss: 1.5309, Overall Best Test Loss: 2.4997\n",
      "Epoch [70/100], Train Loss: 1.6829,               Test Loss: 2.6534\n",
      "   Overall Best Train Loss: 1.5309, Overall Best Test Loss: 2.4997\n",
      "Epoch [80/100], Train Loss: 1.5163,               Test Loss: 2.7489\n",
      "   Overall Best Train Loss: 1.5163, Overall Best Test Loss: 2.4997\n",
      "Epoch [90/100], Train Loss: 1.3488,               Test Loss: 2.8853\n",
      "   Overall Best Train Loss: 1.3488, Overall Best Test Loss: 2.4997\n",
      "Epoch [100/100], Train Loss: 1.1856,               Test Loss: 2.9948\n",
      "   Overall Best Train Loss: 1.1856, Overall Best Test Loss: 2.4997\n"
     ]
    }
   ],
   "source": [
    "num_epochs = 100\n",
    "\n",
    "for epoch in range(num_epochs):\n",
    "    # Training phase\n",
    "    model.train()\n",
    "    epoch_train_loss = 0  # Accumulate training loss over batches for the current epoch\n",
    "    \n",
    "    for X_batch, y_batch in train_loader:\n",
    "        optimizer.zero_grad()\n",
    "        \n",
    "        # Forward pass\n",
    "        outputs = model(X_batch)\n",
    "        loss = criterion(outputs, y_batch)\n",
    "        \n",
    "        # Backward pass and optimization\n",
    "        loss.backward()\n",
    "        optimizer.step()\n",
    "        \n",
    "        epoch_train_loss += loss.item()  # Accumulate loss\n",
    "    \n",
    "    # Calculate the average training loss for this epoch\n",
    "    avg_train_loss = epoch_train_loss / len(train_loader)\n",
    "    \n",
    "    # Update the current best train loss for the session\n",
    "    #current_best_train_loss = min(current_best_train_loss, avg_train_loss)\n",
    "    # Update the overall best train loss across all epochs\n",
    "    best_train_loss = min(best_train_loss, avg_train_loss)\n",
    "    \n",
    "    # Evaluation phase\n",
    "    model.eval()\n",
    "    test_loss = 0\n",
    "    with torch.no_grad():\n",
    "        for X_batch, y_batch in test_loader:\n",
    "            outputs = model(X_batch)\n",
    "            loss = criterion(outputs, y_batch)\n",
    "            test_loss += loss.item()\n",
    "\n",
    "    # Calculate the average test loss for this epoch\n",
    "    avg_test_loss = test_loss / len(test_loader)\n",
    "    \n",
    "    # Update the current best test loss for the session\n",
    "    #current_best_test_loss = min(current_best_test_loss, avg_test_loss)\n",
    "    # Update the overall best test loss across all epochs\n",
    "    best_test_loss = min(best_test_loss, avg_test_loss)\n",
    "    \n",
    "    # Print loss every 10 epochs\n",
    "    if (epoch + 1) % 10 == 0:\n",
    "        print(f\"Epoch [{epoch+1}/{num_epochs}], Train Loss: {avg_train_loss:.4f},               Test Loss: {avg_test_loss:.4f}\")\n",
    "        print(f\"   Overall Best Train Loss: {best_train_loss:.4f}, Overall Best Test Loss: {best_test_loss:.4f}\")\n",
    "        #print(f\"  Current Best Test Loss: {current_best_test_loss:.4f}, Overall Best Test Loss: {best_test_loss:.4f}\")"
   ]
  },
  {
   "cell_type": "code",
   "execution_count": null,
   "metadata": {},
   "outputs": [],
   "source": []
  }
 ],
 "metadata": {
  "kernelspec": {
   "display_name": "Python 3",
   "language": "python",
   "name": "python3"
  },
  "language_info": {
   "codemirror_mode": {
    "name": "ipython",
    "version": 3
   },
   "file_extension": ".py",
   "mimetype": "text/x-python",
   "name": "python",
   "nbconvert_exporter": "python",
   "pygments_lexer": "ipython3",
   "version": "3.12.5"
  }
 },
 "nbformat": 4,
 "nbformat_minor": 2
}
