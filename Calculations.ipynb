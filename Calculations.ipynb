{
 "cells": [
  {
   "cell_type": "code",
   "execution_count": 1,
   "metadata": {},
   "outputs": [],
   "source": [
    "import numpy as np\n",
    "import scipy.optimize \n",
    "from scipy.stats import norm\n",
    "from scipy import optimize\n",
    "from py_vollib.black_scholes import implied_volatility"
   ]
  },
  {
   "cell_type": "code",
   "execution_count": 3,
   "metadata": {},
   "outputs": [
    {
     "data": {
      "text/plain": [
       "array([101.88827722])"
      ]
     },
     "execution_count": 3,
     "metadata": {},
     "output_type": "execute_result"
    }
   ],
   "source": [
    "\n",
    "\n",
    "F_05 = 7.4\n",
    "F_1 = 7.55\n",
    "\n",
    "S_0 = 95\n",
    "\n",
    "r_dol = 0.03\n",
    "r_rub = 0.1\n",
    "\n",
    "\n",
    "def func(F):\n",
    "    return S_0 * np.exp((r_rub - r_dol)) - F\n",
    "\n",
    "root = optimize.fsolve(func, 7)\n",
    "root\n"
   ]
  },
  {
   "cell_type": "code",
   "execution_count": 35,
   "metadata": {},
   "outputs": [
    {
     "data": {
      "text/plain": [
       "92.53522601819883"
      ]
     },
     "execution_count": 35,
     "metadata": {},
     "output_type": "execute_result"
    }
   ],
   "source": [
    "#Black and Sholts call price formula \n",
    "def bs_put_price(S0, K, T, r, sigma):\n",
    "    d1 = (np.log(S0 / K) + (r + 0.5 * sigma**2) * T) / (sigma * np.sqrt(T))\n",
    "    d2 = d1 - sigma * np.sqrt(T)\n",
    "    call_price = K * np.exp(-r * T) * norm.cdf(-d2) - S0 * norm.cdf(-d1)\n",
    "    return call_price\n",
    "\n",
    "# Implied volatility calculation\n",
    "def implied_vol(S0, sigma, T, r, market_price):\n",
    "\n",
    "    def objective_function(K):\n",
    "        return bs_put_price(S0, K, T, r, sigma) - market_price\n",
    "\n",
    "    # Fix the bounds for volatility, ensuring positive values\n",
    "    K = optimize.ridder(objective_function, 1, 1500)  # Volatility bounds, starting from a small positive value\n",
    "   \n",
    "    return K \n",
    "\n",
    "implied_vol(S0=95, sigma=0.2, T=1, r=0.1, market_price=2.85)"
   ]
  },
  {
   "cell_type": "code",
   "execution_count": null,
   "metadata": {},
   "outputs": [],
   "source": []
  }
 ],
 "metadata": {
  "kernelspec": {
   "display_name": "env",
   "language": "python",
   "name": "python3"
  },
  "language_info": {
   "codemirror_mode": {
    "name": "ipython",
    "version": 3
   },
   "file_extension": ".py",
   "mimetype": "text/x-python",
   "name": "python",
   "nbconvert_exporter": "python",
   "pygments_lexer": "ipython3",
   "version": "3.11.5"
  }
 },
 "nbformat": 4,
 "nbformat_minor": 2
}
