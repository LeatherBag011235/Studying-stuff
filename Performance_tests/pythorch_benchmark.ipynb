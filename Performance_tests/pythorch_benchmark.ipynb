{
 "cells": [
  {
   "cell_type": "code",
   "execution_count": 1,
   "metadata": {},
   "outputs": [
    {
     "name": "stdout",
     "output_type": "stream",
     "text": [
      "CUDA Available: True\n",
      "GPU: NVIDIA GeForce RTX 4080 SUPER\n",
      "CUDA Version: 12.1\n",
      "PyTorch Version: 2.5.1\n"
     ]
    }
   ],
   "source": [
    "import torch\n",
    "print(\"CUDA Available:\", torch.cuda.is_available())  # Should print True\n",
    "print(\"GPU:\", torch.cuda.get_device_name(0))  # Should print your GPU name\n",
    "print(\"CUDA Version:\", torch.version.cuda)  # Should match CUDA 12.1\n",
    "print(\"PyTorch Version:\", torch.__version__)  # Should match installed version\n"
   ]
  },
  {
   "cell_type": "code",
   "execution_count": 20,
   "metadata": {},
   "outputs": [
    {
     "name": "stdout",
     "output_type": "stream",
     "text": [
      "Matrix multiplication completed in 0.0732 sec on GPU\n"
     ]
    }
   ],
   "source": [
    "import torch\n",
    "import time\n",
    "\n",
    "# Move computations to GPU\n",
    "x = torch.randn(10000, 10000, device=\"cuda\")\n",
    "y = torch.randn(10000, 10000, device=\"cuda\")\n",
    "\n",
    "# Measure execution time\n",
    "start = time.time()\n",
    "z = torch.matmul(x, y)\n",
    "torch.cuda.synchronize()  # Ensures all computations finish before measuring time\n",
    "end = time.time()\n",
    "\n",
    "print(f\"Matrix multiplication completed in {end - start:.4f} sec on GPU\")\n"
   ]
  },
  {
   "cell_type": "markdown",
   "metadata": {},
   "source": [
    "PC, win 11, Specs:\n",
    "- CUDA Available: True\n",
    "- GPU: NVIDIA GeForce RTX 4080 SUPER\n",
    "- CUDA Version: 12.1\n",
    "- PyTorch Version: 2.5.1\n",
    "\n",
    "Matrix multiplication completed in 0.0937 sec on GPU"
   ]
  }
 ],
 "metadata": {
  "kernelspec": {
   "display_name": "study_stuff",
   "language": "python",
   "name": "python3"
  },
  "language_info": {
   "codemirror_mode": {
    "name": "ipython",
    "version": 3
   },
   "file_extension": ".py",
   "mimetype": "text/x-python",
   "name": "python",
   "nbconvert_exporter": "python",
   "pygments_lexer": "ipython3",
   "version": "3.12.7"
  }
 },
 "nbformat": 4,
 "nbformat_minor": 2
}
