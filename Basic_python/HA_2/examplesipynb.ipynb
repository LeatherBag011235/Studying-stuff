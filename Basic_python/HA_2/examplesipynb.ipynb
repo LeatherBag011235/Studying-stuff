{
 "cells": [
  {
   "cell_type": "code",
   "execution_count": 5,
   "metadata": {},
   "outputs": [],
   "source": [
    "from Shibanov_Maxim_scientific_calculator import ScientificCalculator"
   ]
  },
  {
   "cell_type": "code",
   "execution_count": 6,
   "metadata": {},
   "outputs": [],
   "source": [
    "calc = ScientificCalculator()"
   ]
  },
  {
   "cell_type": "code",
   "execution_count": 7,
   "metadata": {},
   "outputs": [
    {
     "name": "stdout",
     "output_type": "stream",
     "text": [
      "\n",
      "\n",
      "No results yet\n",
      "0.8\n",
      "\n",
      "\n",
      "Last results: [0.8]\n",
      "Total operations: 1\n",
      "-187.0\n",
      "\n",
      "\n",
      "Last results: [0.8, -187.0]\n",
      "Total operations: 2\n",
      "-149.6\n",
      "\n",
      "\n",
      "Last results: [0.8, -187.0, -149.6]\n",
      "Total operations: 3\n",
      "59.0\n",
      "\n",
      "\n",
      "Last results: [-187.0, -149.6, 59.0]\n",
      "Total operations: 4\n",
      "-2681217673.0\n",
      "\n",
      "\n",
      "Last results: [-149.6, 59.0, -2681217673.0]\n",
      "Total operations: 5\n",
      "1.0\n",
      "\n",
      "\n",
      "Last results: [59.0, -2681217673.0, 1.0]\n",
      "Total operations: 6\n",
      "22026.465794806718\n",
      "\n",
      "\n",
      "Last results: [-2681217673.0, 1.0, 22026.465794806718]\n",
      "Total operations: 7\n",
      "-66386559080912.0\n",
      "\n",
      "\n",
      "Last results: [1.0, 22026.465794806718, -66386559080912.0]\n",
      "Total operations: 8\n",
      "1.25\n",
      "\n",
      "\n",
      "Last results: [22026.465794806718, -66386559080912.0, 1.25]\n",
      "Total operations: 9\n",
      "\n",
      "\n",
      "All results: [0.8, -187.0, -149.6, 59.0, -2681217673.0, 1.0, 22026.465794806718, -66386559080912.0, 1.25]\n",
      "Total operations: 9\n",
      "\n",
      "\n",
      "Last results: [22026.465794806718, -66386559080912.0, 1.25]\n",
      "Total operations: 9\n",
      "An input should be an integer number from 1 to 8\n",
      "An input should be an integer number from 1 to 8\n",
      "3.0\n",
      "\n",
      "\n",
      "Last results: [-66386559080912.0, 1.25, 3.0]\n",
      "Total operations: 10\n",
      "\n",
      "\n",
      "All results: [0.8, -187.0, -149.6, 59.0, -2681217673.0, 1.0, 22026.465794806718, -66386559080912.0, 1.25, 3.0]\n",
      "Total operations: 10\n"
     ]
    }
   ],
   "source": [
    "calc.compute()\n"
   ]
  }
 ],
 "metadata": {
  "kernelspec": {
   "display_name": "env",
   "language": "python",
   "name": "python3"
  },
  "language_info": {
   "codemirror_mode": {
    "name": "ipython",
    "version": 3
   },
   "file_extension": ".py",
   "mimetype": "text/x-python",
   "name": "python",
   "nbconvert_exporter": "python",
   "pygments_lexer": "ipython3",
   "version": "3.11.5"
  }
 },
 "nbformat": 4,
 "nbformat_minor": 2
}
